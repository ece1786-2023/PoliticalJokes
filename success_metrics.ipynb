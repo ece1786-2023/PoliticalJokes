{
 "cells": [
  {
   "cell_type": "code",
   "execution_count": null,
   "metadata": {},
   "outputs": [],
   "source": [
    "from evaluator import Evaluator\n",
    "from generator import Generator\n",
    "import pandas as pd\n",
    "\n",
    "def generate_and_evaluate(keywords):\n",
    "    # Generate a a Russian political joke.\n",
    "    generator = Generator(keywords=keywords)\n",
    "    joke = generator.generate()[0]\n",
    "    # Evaluate the funniness of the generated joke.\n",
    "    evaluator = Evaluator()\n",
    "    rating, explanation = evaluator.evaluate(joke)\n",
    "    return joke, rating, explanation\n",
    "\n",
    "# Use 6 sets of keywords to generate 30 outputs.\n",
    "keywords_list = [\"USSR\", \"Stalin\", \"KGB\", \"Gulag\", \"bread\", \"Khrushchev, corn\"]\n",
    "rows_human_rating = []\n",
    "rows_gpt_rating = []\n",
    "for keywords in keywords_list:\n",
    "    for i in range(5):\n",
    "        joke, rating, explanation = generate_and_evaluate(keywords)\n",
    "        rows_human_rating.append([keywords, joke, 0, 0, 0])\n",
    "        rows_gpt_rating.append([keywords, joke, rating, explanation])\n",
    "\n",
    "df_human_rating = pd.DataFrame(rows_human_rating, columns=[\"Keywords\", \"Generated Joke\", \"Human Rating\", \"Gan's Rating\", \"Yimin's Rating\"])\n",
    "df_human_rating.to_csv(\"success_metrics_output/human_rating.csv\", index=False)\n",
    "df_gpt_rating = pd.DataFrame(rows_gpt_rating, columns=['Keywords', 'Generated Joke', 'GPT Rating', 'Explanation'])\n",
    "df_gpt_rating.to_csv(\"success_metrics_output/gpt_rating.csv\", index=False)"
   ]
  }
 ],
 "metadata": {
  "kernelspec": {
   "display_name": "ece1786",
   "language": "python",
   "name": "python3"
  },
  "language_info": {
   "codemirror_mode": {
    "name": "ipython",
    "version": 3
   },
   "file_extension": ".py",
   "mimetype": "text/x-python",
   "name": "python",
   "nbconvert_exporter": "python",
   "pygments_lexer": "ipython3",
   "version": "3.10.13"
  }
 },
 "nbformat": 4,
 "nbformat_minor": 2
}
